{
 "metadata": {
  "language_info": {
   "codemirror_mode": {
    "name": "ipython",
    "version": 3
   },
   "file_extension": ".py",
   "mimetype": "text/x-python",
   "name": "python",
   "nbconvert_exporter": "python",
   "pygments_lexer": "ipython3",
   "version": "3.8.5-final"
  },
  "orig_nbformat": 2,
  "kernelspec": {
   "name": "python_defaultSpec_1598957555789",
   "display_name": "Python 3.8.5 32-bit ('.venv': venv)"
  }
 },
 "nbformat": 4,
 "nbformat_minor": 2,
 "cells": [
  {
   "cell_type": "markdown",
   "metadata": {},
   "source": [
    "# Exercises - Day 1\n",
    "\n",
    "- Lists\n",
    "- Tuples\n",
    "- Sequence functions\n",
    "- Dictionaries \n",
    "- Sets\n",
    "- Logic statements\n",
    "- If statements\n",
    "- For loops\n",
    "- While loops\n",
    "- List comprehensions\n"
   ]
  },
  {
   "cell_type": "markdown",
   "metadata": {},
   "source": [
    "### Exercise \n",
    "\n",
    "Use the list: [1.56680276, 7.03735315, 5.02030225, 6.36853766, 1.07804003, 0.37483712, 8.85174971, 0.30987579, 3.32970315, 0.01512192, 6.79334122, 0.42385231, 3.85455554, 0.46288301, 3.97774927, 7.00411013, 0.96858288, 4.22386816, 4.26947196, 2.7484385 ]"
   ]
  },
  {
   "cell_type": "code",
   "execution_count": null,
   "metadata": {},
   "outputs": [],
   "source": []
  },
  {
   "cell_type": "code",
   "execution_count": 10,
   "metadata": {},
   "outputs": [
    {
     "output_type": "execute_result",
     "data": {
      "text/plain": "array([1.56680276, 7.03735315, 5.02030225, 6.36853766, 1.07804003,\n       0.37483712, 8.85174971, 0.30987579, 3.32970315, 0.01512192,\n       6.79334122, 0.42385231, 3.85455554, 0.46288301, 3.97774927,\n       7.00411013, 0.96858288, 4.22386816, 4.26947196, 2.7484385 ])"
     },
     "metadata": {},
     "execution_count": 10
    }
   ],
   "source": [
    "import numpy as np \n",
    "np.random.uniform(0,10,20)"
   ]
  },
  {
   "cell_type": "markdown",
   "metadata": {},
   "source": [
    "### Exercise 1.1\n",
    "Write a program that prints all the numbers from 0 to 6 exept 3 and 6:\n",
    "- Using a for loop and if statements.\n",
    "- Using a for loop, an if statement and the continue statement.\n",
    "\n",
    "Expected Result : 0 1 2 4 5"
   ]
  },
  {
   "cell_type": "code",
   "execution_count": null,
   "metadata": {},
   "outputs": [],
   "source": []
  },
  {
   "cell_type": "markdown",
   "metadata": {},
   "source": [
    "### Exercise 1.2\n",
    "Write a Python program which takes two digits m (row) and n (column) as input and generates a two-dimensional array. <br>\n",
    "The element value in the i-th row and j-th column of the array should be i*j.\n",
    "\n",
    "Test Data : Rows = 3, Columns = 4 <br>\n",
    "Expected Result : \\[\\[0, 0, 0, 0\\], \\[0, 1, 2, 3\\], \\[0, 2, 4, 6\\]\\]\n"
   ]
  },
  {
   "cell_type": "code",
   "execution_count": null,
   "metadata": {},
   "outputs": [],
   "source": []
  },
  {
   "cell_type": "markdown",
   "metadata": {},
   "source": [
    "### Ecxercise 1.3\n",
    "Write a Python program that creates a list of the Fibonacci series between 0 to 50. <br> \n",
    "The Fibonacci Sequence is the series of numbers : <br>\n",
    ">0, 1, 1, 2, 3, 5, 8, 13, 21, ...., <br>\n",
    "\n",
    "where the next number is the sum of the two last numbers.\n",
    "\n",
    "Expected Output : \\[0, 1, 1, 2, 3, 5, 8, 13, 21, 34\\]"
   ]
  },
  {
   "cell_type": "code",
   "execution_count": null,
   "metadata": {},
   "outputs": [],
   "source": []
  },
  {
   "cell_type": "markdown",
   "metadata": {},
   "source": [
    "### Exercise 1.4\n",
    "Acces the value of key \"history\" from sampleDict."
   ]
  },
  {
   "cell_type": "code",
   "execution_count": null,
   "metadata": {},
   "outputs": [],
   "source": [
    "sampleDict = { \n",
    "   \"class\":{ \n",
    "      \"student\":{ \n",
    "         \"name\":\"Mike\",\n",
    "         \"marks\":{ \n",
    "            \"physics\":70,\n",
    "            \"history\":80\n",
    "         }\n",
    "      }\n",
    "   }\n",
    "}"
   ]
  },
  {
   "cell_type": "markdown",
   "metadata": {},
   "source": [
    "### Exercise 1.5\n",
    "Create two dictionary called \"prices\" and \"stock\". Add the following fruits to each dictionary with a suitable value: pear, apple, orange, banana and lemon.\n",
    "\n",
    "Print the total value of the stock using a for loop."
   ]
  },
  {
   "cell_type": "code",
   "execution_count": null,
   "metadata": {},
   "outputs": [],
   "source": []
  },
  {
   "cell_type": "markdown",
   "metadata": {},
   "source": [
    "### Exercise 1.6 \n",
    "Use list comprehensions to make a list of numbers between 0 and 100 that are divisible by 7\n",
    "\n"
   ]
  },
  {
   "cell_type": "code",
   "execution_count": null,
   "metadata": {},
   "outputs": [],
   "source": []
  }
 ]
}