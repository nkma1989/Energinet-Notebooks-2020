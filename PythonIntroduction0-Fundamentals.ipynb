{
 "metadata": {
  "language_info": {
   "codemirror_mode": {
    "name": "ipython",
    "version": 3
   },
   "file_extension": ".py",
   "mimetype": "text/x-python",
   "name": "python",
   "nbconvert_exporter": "python",
   "pygments_lexer": "ipython3",
   "version": "3.8.5-final"
  },
  "orig_nbformat": 2,
  "kernelspec": {
   "name": "python_defaultSpec_1598864825044",
   "display_name": "Python 3.8.5 32-bit ('.venv': venv)"
  }
 },
 "nbformat": 4,
 "nbformat_minor": 2,
 "cells": [
  {
   "cell_type": "markdown",
   "metadata": {},
   "source": [
    "# Python introduction - Fundamentals\n",
    "This notebook will introduce the fundamentals of Python programming."
   ]
  },
  {
   "cell_type": "markdown",
   "metadata": {},
   "source": [
    "## Print\n",
    "Print statements can be used to display values or to ease debugging. <BR>\n",
    "To print and output in Python use the print statement. <BR>\n",
    "The print statement prints the string or variable given as an input. <BR>"
   ]
  },
  {
   "cell_type": "code",
   "execution_count": 1,
   "metadata": {
    "tags": []
   },
   "outputs": [
    {
     "output_type": "stream",
     "name": "stdout",
     "text": "Hello world\n10\n"
    }
   ],
   "source": [
    "print(\"Hello world\")\n",
    "print(10)"
   ]
  },
  {
   "cell_type": "markdown",
   "metadata": {},
   "source": [
    "## Comments\n",
    "Code comments are written using \\# in Python. <BR>\n",
    "Commenting your code is highly recommended when programming. <BR>\n",
    "It allows you or others to understand the resoning behind the lines of code following the comment. <BR> \n",
    "Comments can also be used for debugging."
   ]
  },
  {
   "cell_type": "code",
   "execution_count": 2,
   "metadata": {
    "tags": []
   },
   "outputs": [
    {
     "output_type": "stream",
     "name": "stdout",
     "text": "Hello world\n"
    }
   ],
   "source": [
    "# This is a comment and is not executed\n",
    "# Print Hello world\n",
    "print('Hello world')"
   ]
  },
  {
   "cell_type": "markdown",
   "metadata": {},
   "source": [
    "## Strings\n",
    "In Python strings can be declared as a variable simply by giving it a name and setting it to a value. <BR>\n",
    "A string can be written either in single quotes or double quotes. <BR>\n",
    "If a single quote is used in the text line, it is nessesary to use double quotes around the string. <BR>\n",
    "Furthermore for readability it is nice to include blank lines or linespaces. <BR>\n",
    "An empty print statement gives a blank line and the command \\n creates linebreaks.\n",
    "There are multiple ways of combining and getting informations from a string, some of which are displayed below.\n"
   ]
  },
  {
   "cell_type": "code",
   "execution_count": 3,
   "metadata": {
    "tags": []
   },
   "outputs": [
    {
     "output_type": "stream",
     "name": "stdout",
     "text": "Hello world, it's nessesary to use double quote around strings including a single quote.\n\nA blank line just occured and this line will have a linebreak \nnow.\n"
    }
   ],
   "source": [
    "print(\"Hello world, it's nessesary to use double quote around strings including a single quote.\")\n",
    "print()\n",
    "print('A blank line just occured and this line will have a linebreak \\nnow.')"
   ]
  },
  {
   "cell_type": "code",
   "execution_count": 4,
   "metadata": {
    "tags": []
   },
   "outputs": [
    {
     "output_type": "stream",
     "name": "stdout",
     "text": "Hello world\nH\nllo\nllo world\nd\nr\nHello worldHello world\nHello world how are you?\n"
    }
   ],
   "source": [
    "# Strings\n",
    "string = 'Hello world'\n",
    "\n",
    "print(string)                   # Prints complete string\n",
    "print(string[0])                # Prints first character of the string\n",
    "print(string[2:5])              # Prints characters starting from 3rd to 5th\n",
    "print(string[2:])               # Prints string starting from 3rd character\n",
    "print(string[-1])               # Prints last character\n",
    "print(string[-3])               # Prints third last character\n",
    "print(string * 2)               # Prints string two times\n",
    "print(string + ' how are you?') # Prints concatenated string"
   ]
  },
  {
   "cell_type": "code",
   "execution_count": 5,
   "metadata": {
    "tags": []
   },
   "outputs": [
    {
     "output_type": "stream",
     "name": "stdout",
     "text": "THIS IS PYTHON\nthis is python\nThis is python\n2\n14\n['this', 'is', 'Python']\n"
    }
   ],
   "source": [
    "# Further modifications of strings\n",
    "sentence = 'this is Python'\n",
    "\n",
    "print(sentence.upper())         # Convert to uppercase \n",
    "print(sentence.lower())         # Convert to lowercase\n",
    "print(sentence.capitalize())    # Capitalize just the first word\n",
    "print(sentence.count('i'))      # Count all instances of a particlular string (here 'i')\n",
    "print(len(sentence))            # Get length of string (Number of characters)\n",
    "print(sentence.split(' '))      # Split string (here at spaces) - This returns a list which we will return to\n"
   ]
  },
  {
   "cell_type": "code",
   "execution_count": 6,
   "metadata": {
    "tags": []
   },
   "outputs": [
    {
     "output_type": "stream",
     "name": "stdout",
     "text": "Welcome to the course Donald Duck\nWelcome to the course Donald Duck\nWelcome to the course Donald Duck\nWelcome to the course Donald Duck\n"
    }
   ],
   "source": [
    "# Custom string formatting\n",
    "first_name = 'donald'\n",
    "last_name = 'duck'\n",
    "\n",
    "# Concatenate string and variable with plus - This method can only be used for strings\n",
    "print('Welcome to the course ' + first_name.capitalize() + ' ' + last_name.capitalize())\n",
    "# Coustom formatting 1\n",
    "print('Welcome to the course {} {}'.format(first_name.capitalize(), last_name.capitalize()))\n",
    "# Coustom formatting 2\n",
    "print('Welcome to the course {0} {1}'.format(first_name.capitalize(), last_name.capitalize()))\n",
    "# Coustom formatting 3 - only in python 3, notice the f in front of the string\n",
    "print(f'Welcome to the course {first_name.capitalize()} {last_name.capitalize()}')"
   ]
  },
  {
   "cell_type": "markdown",
   "metadata": {},
   "source": [
    "## Numbers\n",
    "Numbers can be stored in variables as integers or floats. <BR>\n",
    "The type of a variable can be found using the type statement. <BR>\n",
    "Numbers can be added, subtracted, multiplied, divided, or used as an exponent. <BR>\n",
    "Numbers and strings cannot be combined using +, but one can convert the number to a string or use the coustom formatting."
   ]
  },
  {
   "cell_type": "code",
   "execution_count": 7,
   "metadata": {
    "tags": []
   },
   "outputs": [
    {
     "output_type": "stream",
     "name": "stdout",
     "text": "10 is a variable of type <class 'int'>\n10.0 is a variable of type <class 'float'>\n\nAdding two integers gives: 10 + 10 = 20 of type <class 'int'>\nAdding integer and float gives: 10 + 10.0 = 20.0 of type <class 'float'>\n"
    }
   ],
   "source": [
    "# Integers and floats\n",
    "num_int = 10\n",
    "num_float = 10.0\n",
    "print(f\"{num_int} is a variable of type {type(num_int)}\")\n",
    "print(f\"{num_float} is a variable of type {type(num_float)}\")\n",
    "print()\n",
    "\n",
    "# Adding integers gives an integer\n",
    "print(f\"Adding two integers gives: {num_int} + {num_int} = {num_int+num_int} of type {type(num_int+num_int)}\")\n",
    "\n",
    "# Adding integer and float gives a float\n",
    "print(f\"Adding integer and float gives: {num_int} + {num_float} = {num_int+num_float} of type {type(num_int+num_float)}\")\n"
   ]
  },
  {
   "cell_type": "code",
   "execution_count": 8,
   "metadata": {
    "tags": []
   },
   "outputs": [
    {
     "output_type": "stream",
     "name": "stdout",
     "text": "Add:      7\nSubtract: 3\nMultiply: 10\nDivide:   2.5\nExponent: 25\nModulo:   1\n"
    }
   ],
   "source": [
    "# Using numbers for math\n",
    "first_num = 5\n",
    "second_num = 2\n",
    "\n",
    "print(f\"Add:      {first_num+second_num}\")\n",
    "print(f\"Subtract: {first_num-second_num}\")\n",
    "print(f\"Multiply: {first_num*second_num}\")\n",
    "print(f\"Divide:   {first_num/second_num}\")\n",
    "print(f\"Exponent: {first_num**second_num}\")\n",
    "print(f\"Modulo:   {first_num%second_num}\") # The remainder"
   ]
  },
  {
   "cell_type": "code",
   "execution_count": 9,
   "metadata": {
    "tags": []
   },
   "outputs": [
    {
     "output_type": "stream",
     "name": "stdout",
     "text": "5 days ago\n\nNumber as string converted to integer: 5\nNumber as string converted to float:   5.0\n"
    }
   ],
   "source": [
    "# Numbers can be type converted to strings using the str function\n",
    "print(str(first_num) + \" days ago\")\n",
    "print()\n",
    "\n",
    "# Numbers stored as a string can be converted back to either integer or float\n",
    "num_str = '5'\n",
    "print(f\"Number as string converted to integer: {int(num_str)}\")\n",
    "print(f\"Number as string converted to float:   {float(num_str)}\")"
   ]
  },
  {
   "cell_type": "code",
   "execution_count": 10,
   "metadata": {
    "tags": []
   },
   "outputs": [
    {
     "output_type": "stream",
     "name": "stdout",
     "text": "Original age:         30\n\nPrint age + 5:        35\nOriginal age:         30\n\nAdd 5 to age:         35\n\nAdd 5 to age:         40\n\nSubtract 10 from age: 30\nMultiply age by 2:    60\nDivide age by 6:      10.0\n"
    }
   ],
   "source": [
    "# Updating variables\n",
    "age = 30\n",
    "print(f\"Original age:         {age}\")\n",
    "print()\n",
    "\n",
    "# Just adding values to a number will not change the number\n",
    "print(f\"Print age + 5:        {age + 5}\")\n",
    "print(f\"Original age:         {age}\")\n",
    "print()\n",
    "\n",
    "# To update age the variable has to be updated\n",
    "age = age + 5\n",
    "print(f\"Add 5 to age:         {age}\")\n",
    "print()\n",
    "\n",
    "# This operation can be simplified\n",
    "age += 5\n",
    "print(f\"Add 5 to age:         {age}\")\n",
    "print()\n",
    "\n",
    "# The simplified operation can also be performed with subtraction, multiplication and division\n",
    "age -= 10\n",
    "print(f\"Subtract 10 from age: {age}\")\n",
    "age *= 2\n",
    "print(f\"Multiply age by 2:    {age}\")\n",
    "age /= 6\n",
    "print(f\"Divide age by 6:      {age}\")"
   ]
  },
  {
   "cell_type": "code",
   "execution_count": 11,
   "metadata": {
    "tags": []
   },
   "outputs": [
    {
     "output_type": "stream",
     "name": "stdout",
     "text": "The number is 3.14159265\nThe number is 3.14\nThe number is 3.142\n"
    }
   ],
   "source": [
    "# Custom number formatting\n",
    "pi = 3.14159265\n",
    "\n",
    "print(f\"The number is {pi}\")        # Default format\n",
    "print(f\"The number is {pi:.3}\")     # Add format after the colon - .3 means three digits\n",
    "print(f\"The number is {pi:.3f}\")    # Add format after the colon - .3f three decimal points (floating point numbers)\n"
   ]
  },
  {
   "cell_type": "markdown",
   "metadata": {},
   "source": [
    "## Booleans\n",
    "True/False statements are capitalized in Python.<BR>\n",
    "1/0 can be converted to booleans using the bool function.\n",
    " \n"
   ]
  },
  {
   "cell_type": "code",
   "execution_count": 12,
   "metadata": {
    "tags": []
   },
   "outputs": [
    {
     "output_type": "stream",
     "name": "stdout",
     "text": "Boolean True is type <class 'bool'>\n0 to boolean: False\n"
    }
   ],
   "source": [
    "# Booleans\n",
    "var_bool = True\n",
    "print(f\"Boolean {var_bool} is type {type(var_bool)}\")\n",
    "\n",
    "num_bool = 0\n",
    "print(f\"{num_bool} to boolean: {bool(num_bool)}\")"
   ]
  },
  {
   "cell_type": "markdown",
   "metadata": {},
   "source": [
    "# Exercise\n",
    "1. Create a variable for your first and last name. Print a sentence including your full name.\n",
    "2. Calculate the length of your first name and last name. What is the sum of the two?\n",
    "3. Print your initials.\n",
    "2. Solve the mathematical problems:\n",
    "    1. $9 + 3$\n",
    "    2. $9 - 3$\n",
    "    3. $9 \\cdot 3$\n",
    "    4. $\\frac{9}{3}$\n",
    "    5. $9^3$"
   ]
  },
  {
   "cell_type": "code",
   "execution_count": null,
   "metadata": {},
   "outputs": [],
   "source": []
  }
 ]
}