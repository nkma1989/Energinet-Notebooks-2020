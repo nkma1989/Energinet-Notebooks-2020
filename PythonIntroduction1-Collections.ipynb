{
 "cells": [
  {
   "cell_type": "markdown",
   "metadata": {},
   "source": [
    "# Python introduction - Collections\n",
    "This notebook will introduce collections in python programming. <BR>\n",
    "Python collections are zero-indexed, which means that the first element is the 0th element. "
   ]
  },
  {
   "cell_type": "markdown",
   "metadata": {},
   "source": [
    "## Lists\n",
    "Lists are set up by using the square bracket operator. <BR>\n",
    "They can contain any variable type."
   ]
  },
  {
   "cell_type": "code",
   "execution_count": 1,
   "metadata": {
    "tags": []
   },
   "outputs": [
    {
     "output_type": "stream",
     "name": "stdout",
     "text": "[1, 2, 3, 4, 5]\n[1, 2, 3]\n['abcd', 786, 2.23, 'john', 70.2]\n"
    }
   ],
   "source": [
    "# Creating lists\n",
    "# Lists can be created by prepopulating them\n",
    "list1 = [1, 2, 3, 4, 5]\n",
    "\n",
    "# Or by creating an empty list and appending values\n",
    "list2 = [] \n",
    "list2.append(1)\n",
    "list2.append(3)\n",
    "\n",
    "# Values can also be inserted at a specific place - rememer zero-indexing\n",
    "# Here we insert the number 2 in the position 1 the second entry of the list\n",
    "list2.insert(1,2) \n",
    "\n",
    "\n",
    "\n",
    "# Lists can contain any type of variable\n",
    "list3 = [ 'abcd', 786 , 2.23, 'john', 70.2 ]\n",
    "\n",
    "# Print all three lists\n",
    "print(list1)\n",
    "print(list2)\n",
    "print(list3)"
   ]
  },
  {
   "cell_type": "code",
   "execution_count": 2,
   "metadata": {
    "tags": []
   },
   "outputs": [
    {
     "output_type": "stream",
     "name": "stdout",
     "text": "[1, 2, 3, 4, 5]\n1\n[2, 3]\n[3, 4, 5]\n[1, 2]\n4\n"
    }
   ],
   "source": [
    "# Print lists\n",
    "print( list1 )            # Prints complete list\n",
    "print( list1[0] )         # Prints first element of the list\n",
    "print( list1[1:3] )       # Prints elements starting from 2nd till 3rd \n",
    "print( list1[2:] )        # Prints elements starting from 3rd element\n",
    "print( list1[:2] )        # Prints elements until the 3rd element\n",
    "print( list1[-2] )        # Prints second last element of the list"
   ]
  },
  {
   "cell_type": "code",
   "execution_count": 3,
   "metadata": {
    "tags": []
   },
   "outputs": [
    {
     "output_type": "stream",
     "name": "stdout",
     "text": "Concatenate list1 and list2:      [1, 2, 3, 4, 5, 1, 2, 3]\nConcatenate list2 and list2:      [1, 2, 3, 1, 2, 3]\n\nlist_concat1 before sorting:      [1, 2, 3, 4, 5, 1, 2, 3]\nlist_concat1 after sorting:       [1, 1, 2, 2, 3, 3, 4, 5]\n\nlist_concat2 before sorting:      [1, 2, 3, 1, 2, 3]\nlist_concat2 after sorting:       [1, 2, 3, 1, 2, 3]\nlist_concat2_sort after sorting:  [1, 1, 2, 2, 3, 3]\n"
    }
   ],
   "source": [
    "# Concatenate lists\n",
    "list_concat1 = list1 + list2        # Concatenate two lists - The order of each is preserved\n",
    "list_concat2 = list2*2              # Concatenat list with itself\n",
    "\n",
    "# Print\n",
    "print(f\"Concatenate list1 and list2:      {list_concat1}\")\n",
    "print(f\"Concatenate list2 and list2:      {list_concat2}\")\n",
    "print()\n",
    "\n",
    "# Sorting - Lists can be sorted, this modifies the original list\n",
    "print(f\"list_concat1 before sorting:      {list_concat1}\")\n",
    "list_concat1.sort()\n",
    "print(f\"list_concat1 after sorting:       {list_concat1}\")\n",
    "print()\n",
    "\n",
    "\n",
    "# Sorting - Sorted allows you to create a new sorted list without modifying the original\n",
    "print(f\"list_concat2 before sorting:      {list_concat2}\")\n",
    "list_concat2_sort = sorted(list_concat2)\n",
    "print(f\"list_concat2 after sorting:       {list_concat2}\")\n",
    "print(f\"list_concat2_sort after sorting:  {list_concat2_sort}\")\n"
   ]
  },
  {
   "cell_type": "code",
   "execution_count": 4,
   "metadata": {
    "tags": []
   },
   "outputs": [
    {
     "output_type": "stream",
     "name": "stdout",
     "text": "list3 before: [4, 3, 6, 5, 4]\nlist3 after:  [4, 3, 6, 5, 4, 1, 2, 3]\n"
    }
   ],
   "source": [
    "# Extend an existing list\n",
    "list3 = [4,3,6,5,4]\n",
    "\n",
    "# Extend list 3 with list 2 the original list is not kept\n",
    "print(f\"list3 before: {list3}\")\n",
    "list3.extend(list2)\n",
    "print(f\"list3 after:  {list3}\")"
   ]
  },
  {
   "cell_type": "code",
   "execution_count": 5,
   "metadata": {
    "tags": []
   },
   "outputs": [
    {
     "output_type": "stream",
     "name": "stdout",
     "text": "[['blue', 'red', 'green'], [1, 2, 3, 4], [10.0, 15.0, 20.0, 25.0, 30.0]]\n[1, 2, 3, 4]\n3\n"
    }
   ],
   "source": [
    "# List of lists - It is possible to create lists containing lists\n",
    "list_first = ['blue', 'red', 'green']\n",
    "list_second = [1, 2, 3, 4]\n",
    "list_third = [10.0, 15.0, 20.0, 25.0, 30.0]\n",
    "lists = [list_first, list_second, list_third]\n",
    "\n",
    "print(lists)        # Print the list of lists\n",
    "print(lists[1])     # Print the second (1) list \n",
    "print(lists[1][2])  # print the third (2) element of the second (1) list"
   ]
  },
  {
   "cell_type": "code",
   "execution_count": 6,
   "metadata": {
    "tags": []
   },
   "outputs": [
    {
     "output_type": "stream",
     "name": "stdout",
     "text": "Original list: ['blue', 'red', 'green']\nModified list: ['purple', 'red', 'green']\n"
    }
   ],
   "source": [
    "# A value of a list can be changed or modified\n",
    "list_change = ['blue', 'red', 'green']\n",
    "print(f\"Original list: {list_change}\")\n",
    "\n",
    "# Switch 'blue' in position 0 with 'purple'\n",
    "list_change[0] = 'purple'\n",
    "print(f\"Modified list: {list_change}\")"
   ]
  },
  {
   "cell_type": "markdown",
   "metadata": {},
   "source": [
    "## Tuples\n",
    "Tuples are set up by using the regular bracket operator. <BR>\n",
    "They are similar to lists and can contain any variable type. <BR>\n",
    "Opposite to lists they cannot be modified and there are fewer operations (like .sort()) available for tuples than lists. <BR>"
   ]
  },
  {
   "cell_type": "code",
   "execution_count": 1,
   "metadata": {
    "tags": []
   },
   "outputs": [
    {
     "output_type": "stream",
     "name": "stdout",
     "text": "(1, 2, 3, 4, 5)\n(1, 2, 3)\n('abcd', 786, 2.23, 'john', 70.2)\n"
    }
   ],
   "source": [
    "# Creating tuples\n",
    "# Tuples can be created by prepopulating them\n",
    "tuple1 = (1, 2, 3, 4, 5)\n",
    "tuple2 = (1, 2, 3)\n",
    "\n",
    "# Tuples can contain any type of variable\n",
    "tuple3 = ( 'abcd', 786 , 2.23, 'john', 70.2 )\n",
    "\n",
    "# Print all three tuples\n",
    "print(tuple1)\n",
    "print(tuple2)\n",
    "print(tuple3)"
   ]
  },
  {
   "cell_type": "code",
   "execution_count": 8,
   "metadata": {
    "tags": []
   },
   "outputs": [
    {
     "output_type": "stream",
     "name": "stdout",
     "text": "(1, 2, 3, 4, 5)\n1\n(2, 3)\n(3, 4, 5)\n(1, 2)\n4\n"
    }
   ],
   "source": [
    "# Print tuples\n",
    "print( tuple1 )            # Prints complete tuple\n",
    "print( tuple1[0] )         # Prints first element of the tuple\n",
    "print( tuple1[1:3] )       # Prints elements starting from 2nd till 3rd \n",
    "print( tuple1[2:] )        # Prints elements starting from 3rd element\n",
    "print( tuple1[:2] )        # Prints elements until the 3rd element\n",
    "print( tuple1[-2] )        # Prints second last element of the tuple"
   ]
  },
  {
   "cell_type": "code",
   "execution_count": 9,
   "metadata": {
    "tags": []
   },
   "outputs": [
    {
     "output_type": "stream",
     "name": "stdout",
     "text": "Concatenate tuple1 and tuple2:      (1, 2, 3, 4, 5, 1, 2, 3)\nConcatenate tuple2 and tuple2:      (1, 2, 3, 1, 2, 3)\n\ntuple_concat1 before sorting:      (1, 2, 3, 4, 5, 1, 2, 3)\ntuple_concat1 after sorting:       (1, 2, 3, 4, 5, 1, 2, 3)\ntuple_concat1_sort after sorting:  [1, 1, 2, 2, 3, 3, 4, 5]\n"
    }
   ],
   "source": [
    "# Concatenate tuples\n",
    "tuple_concat1 = tuple1 + tuple2     # Concatenate two tuples - The order of each is preserved\n",
    "tuple_concat2 = tuple2*2           # Concatenat tuple with itself\n",
    "\n",
    "# Print\n",
    "print(f\"Concatenate tuple1 and tuple2:      {tuple_concat1}\")\n",
    "print(f\"Concatenate tuple2 and tuple2:      {tuple_concat2}\")\n",
    "print()\n",
    "\n",
    "# Sorting - As tuples cannot be modified sorted sorts the values of the tuple and outputs a list\n",
    "print(f\"tuple_concat1 before sorting:      {tuple_concat1}\")\n",
    "tuple_concat1_sort = sorted(tuple_concat1)\n",
    "print(f\"tuple_concat1 after sorting:       {tuple_concat1}\")\n",
    "print(f\"tuple_concat1_sort after sorting:  {tuple_concat1_sort}\")\n"
   ]
  },
  {
   "cell_type": "code",
   "execution_count": 10,
   "metadata": {
    "tags": []
   },
   "outputs": [
    {
     "output_type": "stream",
     "name": "stdout",
     "text": "[(0, 1, 2), (3, 4, 5)]\n(3, 4, 5)\n5\n"
    }
   ],
   "source": [
    "# List of tuples - It is possible to create lists containing tuples\n",
    "tuple_first = (0,1,2)\n",
    "tuple_second = (3,4,5)\n",
    "tuples = [tuple_first, tuple_second]\n",
    "\n",
    "print(tuples)        # Print the tuple of tuples\n",
    "print(tuples[1])     # Print the second (1) tuple \n",
    "print(tuples[1][2])  # print the third (2) element of the second (1) tuple"
   ]
  },
  {
   "cell_type": "markdown",
   "metadata": {},
   "source": [
    "## Sequence functions\n",
    "Python has multiple functions that we can use on sequences like lists and tuples."
   ]
  },
  {
   "cell_type": "code",
   "execution_count": 11,
   "metadata": {
    "tags": []
   },
   "outputs": [
    {
     "output_type": "stream",
     "name": "stdout",
     "text": "List:  [5, 3, 6, 3, 4, 2, 5]\nTuple: (7, 5, 3, 8, 5, 6, 7)\n\nSum of list:  28\nSum of tuple: 41\n\nLength of list:  7\nLength of tuple: 7\n\nMinimum of list:  2\nMinimum of tuple: 3\n\nMaximum of list:  6\nMaximum of tuple: 8\n\nIndex of first 3 in list:  1\nIndex of first 3 in tuple: 2\n\nCount occurance of 3 in list:  2\nCount occurance of 3 in tuple: 1\n\n"
    }
   ],
   "source": [
    "# Create a list and tuple\n",
    "alist = [5, 3, 6, 3, 4, 2, 5]\n",
    "atuple = (7,5,3,8,5,6,7)\n",
    "\n",
    "print(f\"List:  {alist}\")\n",
    "print(f\"Tuple: {atuple}\")\n",
    "print()\n",
    "\n",
    "# Sum: sum()\n",
    "print(f\"Sum of list:  {sum(alist)}\")\n",
    "print(f\"Sum of tuple: {sum(atuple)}\")\n",
    "print()\n",
    "\n",
    "# Length: len()\n",
    "print(f\"Length of list:  {len(alist)}\")\n",
    "print(f\"Length of tuple: {len(atuple)}\")\n",
    "print()\n",
    "\n",
    "# Minimum: min()\n",
    "print(f\"Minimum of list:  {min(alist)}\")\n",
    "print(f\"Minimum of tuple: {min(atuple)}\")\n",
    "print()\n",
    "\n",
    "# Maximun: max()\n",
    "print(f\"Maximum of list:  {max(alist)}\")\n",
    "print(f\"Maximum of tuple: {max(atuple)}\")\n",
    "print()\n",
    "\n",
    "# Return index of value: index()\n",
    "print(f\"Index of first 3 in list:  {alist.index(3)}\")\n",
    "print(f\"Index of first 3 in tuple: {atuple.index(3)}\")\n",
    "print()\n",
    "\n",
    "# Count occurences of a value: count()\n",
    "print(f\"Count occurance of 3 in list:  {alist.count(3)}\")\n",
    "print(f\"Count occurance of 3 in tuple: {atuple.count(3)}\")\n",
    "print()"
   ]
  },
  {
   "cell_type": "markdown",
   "metadata": {},
   "source": [
    "## Dictionaries\n",
    "Allows you to group items and call them using a key. It is a set of key-value pairs. <BR>\n",
    "Dictionaries are enclosed in curly braces with a colon separating key and value and a comma separating new keys and values."
   ]
  },
  {
   "cell_type": "code",
   "execution_count": 12,
   "metadata": {
    "tags": []
   },
   "outputs": [
    {
     "output_type": "stream",
     "name": "stdout",
     "text": "Dict1: {'name': 'John', 'code': 6734, 'dept': 'sales'}\nDict2: {'name': 'Mark', 'code': 6736, 'dept': 'sales'}\nDict3: {'name': 'Robert', 'code': 6738, 'dept': 'HR'}\n"
    }
   ],
   "source": [
    "# Creating a dictionary \n",
    "# Dictonaries can be created by prepopulating them\n",
    "dict1 = { 'name' : 'John', 'code' : 6734, 'dept' : 'sales'}\n",
    "\n",
    "# Or by creating an empty dictionary and adding values\n",
    "dict2 = {}\n",
    "dict2['name'] = 'Mark'\n",
    "dict2['code'] = 6736\n",
    "dict2['dept'] = 'sales'\n",
    "\n",
    "# Or by using the dict function\n",
    "dict3 = dict(name='Robert', code=6738, dept='HR')\n",
    "\n",
    "# Print\n",
    "print(f\"Dict1: {dict1}\")\n",
    "print(f\"Dict2: {dict2}\")\n",
    "print(f\"Dict3: {dict3}\")\n"
   ]
  },
  {
   "cell_type": "code",
   "execution_count": 13,
   "metadata": {
    "tags": []
   },
   "outputs": [
    {
     "output_type": "stream",
     "name": "stdout",
     "text": "{'name': 'John', 'code': 6734, 'dept': 'sales'}\n6734\ndict_keys(['name', 'code', 'dept'])\ndict_values(['John', 6734, 'sales'])\n['name', 'code', 'dept']\n['John', 6734, 'sales']\n"
    }
   ],
   "source": [
    "# Print dictionaries\n",
    "print(dict1)                    # Prints complete dictionary\n",
    "print(dict1['code']   )         # Prints value for 'code' key\n",
    "print(dict1.keys())             # Prints all the keys\n",
    "print(dict1.values())           # Prints all the values\n",
    "print(list(dict1.keys()))       # Type cast keys into list\n",
    "print(list(dict1.values()))     # Type cast values into list"
   ]
  },
  {
   "cell_type": "markdown",
   "metadata": {},
   "source": [
    "## Sets\n",
    "Sets are a collection of data similar to lists but sets do not allow duplicates. <BR>\n",
    "Sets do however not preserve order."
   ]
  },
  {
   "cell_type": "code",
   "execution_count": 14,
   "metadata": {
    "tags": []
   },
   "outputs": [
    {
     "output_type": "stream",
     "name": "stdout",
     "text": "{'blue', 'green'}\n{'blue', 'green'}\n"
    }
   ],
   "source": [
    "# Sets can be created using the sets function\n",
    "dict_cars = {'WW': 'blue',\n",
    "             'BMW': 'green',\n",
    "             'Citroen': 'blue'}\n",
    "\n",
    "list_carColors = ['blue', 'green', 'blue']\n",
    "\n",
    "print(set(dict_cars.values()))\n",
    "print(set(list_carColors))"
   ]
  },
  {
   "cell_type": "markdown",
   "metadata": {},
   "source": [
    "## Exercises\n",
    "Alice has during the corona pandemic had meetings with people from all over Denmark.<br>\n",
    "After each meeting she wrote down the city of the person she talked to and the length of the meeting in minutes. <br>\n",
    "1. How many meetings did she have? <br>\n",
    "2. How many meetings with people from Randers did she have? <br>\n",
    "3. How many unique cities did she meet with? <br>\n",
    "4. What was the longest and shortest meeting she had? <br>\n",
    "5. How many minutes in total has she used on meetings? How many hours is that? <br>\n",
    "6. To end the day she had a 15 min long meeting with a person from Kolding and a 23 min long meeting with a person from Aalborg. Add these two to the lists."
   ]
  },
  {
   "cell_type": "code",
   "execution_count": 15,
   "metadata": {
    "tags": []
   },
   "outputs": [],
   "source": [
    "cities = ['Esbjerg', 'Randers', 'Odense', 'Horsens', 'Roskilde', 'Kolding', 'Odense', 'København', 'Esbjerg', 'Odense', 'Aalborg', 'Kolding', 'Vejle', 'Randers', 'Kolding', 'Vejle', 'Vejle', 'Aalborg', 'Aalborg', 'København', 'Odense', 'Horsens', 'Horsens', 'Aarhus', 'Randers', 'Kolding', 'Roskilde', 'Randers', 'København', 'Horsens', 'København', 'Odense', 'Vejle', 'Aalborg', 'Esbjerg', 'Esbjerg', 'Esbjerg', 'Aalborg', 'Vejle', 'Odense', 'Esbjerg', 'Roskilde', 'Aarhus', 'Vejle', 'Aarhus', 'Aarhus', 'Roskilde', 'Aalborg']\n",
    "\n",
    "minutes = [57, 22, 64, 28, 20, 64, 53, 55, 79, 34, 67, 29, 47, 49, 20, 19, 22, 55, 51, 75, 57, 23, 73, 76, 59, 55, 14, 12, 24, 38, 10, 71, 40, 57, 20, 29, 13, 60, 63, 21, 58, 11, 34, 16, 60, 30, 40, 39]"
   ]
  },
  {
   "cell_type": "code",
   "execution_count": null,
   "metadata": {},
   "outputs": [],
   "source": []
  }
 ],
 "metadata": {
  "language_info": {
   "codemirror_mode": {
    "name": "ipython",
    "version": 3
   },
   "file_extension": ".py",
   "mimetype": "text/x-python",
   "name": "python",
   "nbconvert_exporter": "python",
   "pygments_lexer": "ipython3",
   "version": "3.8.5-final"
  },
  "orig_nbformat": 2,
  "kernelspec": {
   "name": "python_defaultSpec_1599459796018",
   "display_name": "Python 3.8.5 32-bit ('.venv': venv)"
  }
 },
 "nbformat": 4,
 "nbformat_minor": 2
}