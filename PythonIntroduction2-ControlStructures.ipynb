{
 "metadata": {
  "language_info": {
   "codemirror_mode": {
    "name": "ipython",
    "version": 3
   },
   "file_extension": ".py",
   "mimetype": "text/x-python",
   "name": "python",
   "nbconvert_exporter": "python",
   "pygments_lexer": "ipython3",
   "version": "3.8.5-final"
  },
  "orig_nbformat": 2,
  "kernelspec": {
   "name": "python_defaultSpec_1598444228543",
   "display_name": "Python 3.8.5 32-bit ('.venv': venv)"
  }
 },
 "nbformat": 4,
 "nbformat_minor": 2,
 "cells": [
  {
   "cell_type": "markdown",
   "metadata": {},
   "source": [
    "# Python introduction - Control structures\n",
    "This notebook will introduce control structures in python programming. <BR>"
   ]
  },
  {
   "cell_type": "markdown",
   "metadata": {},
   "source": [
    "## Logic statements\n",
    "For logical statements python uses \"==\" for equal to and \"!=\" for not equal to. <BR>"
   ]
  },
  {
   "cell_type": "code",
   "execution_count": 1,
   "metadata": {
    "tags": []
   },
   "outputs": [
    {
     "output_type": "stream",
     "name": "stdout",
     "text": "0 greater than 2:             False\n0 less than 2:                True\n0 greater than or equal to 2: False\n0 less than or equal to 2:    True\n0 equal to 2:                 False\n0 not equal to 2:             True\nHello == HELLO:               False\n"
    }
   ],
   "source": [
    "# Logsic statements\n",
    "print(f\"0 greater than 2:             {0 > 2}\")        # Greater than\n",
    "print(f\"0 less than 2:                {0 < 2}\")        # Less than\n",
    "print(f\"0 greater than or equal to 2: {0 >= 2}\")       # Greater than or equal to\n",
    "print(f\"0 less than or equal to 2:    {0 <= 2}\")       # Less than or equal to\n",
    "print(f\"0 equal to 2:                 {0 == 2}\")       # equal to\n",
    "print(f\"0 not equal to 2:             {0 != 2}\")       # not equal to\n",
    "\n",
    "# String comparisons are case sensitive \n",
    "print(f\"Hello == HELLO:               {'Hello'=='HELLO'}\")"
   ]
  },
  {
   "cell_type": "markdown",
   "metadata": {},
   "source": [
    "## If statements\n",
    "In Python syntax for if statements, there is always a colon after your condition and anything enclosed in the statement is indented."
   ]
  },
  {
   "cell_type": "code",
   "execution_count": 2,
   "metadata": {
    "tags": []
   },
   "outputs": [
    {
     "output_type": "stream",
     "name": "stdout",
     "text": "0 is less than 2!\nThis is not part of the if statement and is therefore always printed\n"
    }
   ],
   "source": [
    "# If statement \n",
    "num = 0\n",
    "\n",
    "# Always use a colon after your condition\n",
    "if num < 2:\n",
    "    # Only indented lines are part of the statement\n",
    "    print(f\"{num} is less than 2!\")\n",
    "print(\"This is not part of the if statement and is therefore always printed\")"
   ]
  },
  {
   "cell_type": "code",
   "execution_count": 3,
   "metadata": {
    "tags": []
   },
   "outputs": [
    {
     "output_type": "stream",
     "name": "stdout",
     "text": "0 is neither greater than nor equal to 2!\n\n"
    }
   ],
   "source": [
    "# If, else if, else\n",
    "if num > 2:\n",
    "    print(f\"{num} is greater than 2!\")\n",
    "elif num == 2:\n",
    "    print(f\"{num} is equal to 2!\")\n",
    "else:\n",
    "    print(f\"{num} is neither greater than nor equal to 2!\")\n",
    "print()"
   ]
  },
  {
   "cell_type": "code",
   "execution_count": 4,
   "metadata": {
    "tags": []
   },
   "outputs": [
    {
     "output_type": "stream",
     "name": "stdout",
     "text": "0 is larger than -2 AND less than to 2\n0 is larger than -2 AND less than to 2\n\nTrue  and True:  True\nTrue  and False: False\nFalse and True:  False\nFalse and False: False\n"
    }
   ],
   "source": [
    "# And - can be written as \"and\" or \"&\"\n",
    "if (num > -2) & (num < 2):\n",
    "    print(f\"{num} is larger than -2 AND less than to 2\")\n",
    "if (num > -2) and (num < 2):\n",
    "    print(f\"{num} is larger than -2 AND less than to 2\")\n",
    "\n",
    "print()\n",
    "print(f\"True  and True:  {True and True}\")\n",
    "print(f\"True  and False: {True and False}\")\n",
    "print(f\"False and True:  {False and True}\")\n",
    "print(f\"False and False: {False and False}\")"
   ]
  },
  {
   "cell_type": "code",
   "execution_count": 5,
   "metadata": {
    "tags": []
   },
   "outputs": [
    {
     "output_type": "stream",
     "name": "stdout",
     "text": "0 is less than 1 OR equal to 2\n0 is less than 1 OR equal to 2\n\nTrue  or True:  True\nTrue  or False: True\nFalse or True:  True\nFalse or False: False\n"
    }
   ],
   "source": [
    "# Or - can be written as \"or\" or \"|\"\n",
    "if (num < 1) | (num == 2):\n",
    "    print(f\"{num} is less than 1 OR equal to 2\")\n",
    "if (num < 1) or (num == 2):\n",
    "    print(f\"{num} is less than 1 OR equal to 2\")\n",
    "\n",
    "print()\n",
    "print(f\"True  or True:  {True or True}\")\n",
    "print(f\"True  or False: {True or False}\")\n",
    "print(f\"False or True:  {False or True}\")\n",
    "print(f\"False or False: {False or False}\")"
   ]
  },
  {
   "cell_type": "code",
   "execution_count": 6,
   "metadata": {
    "tags": []
   },
   "outputs": [
    {
     "output_type": "stream",
     "name": "stdout",
     "text": "0 is less than 1 OR equal to 2\n"
    }
   ],
   "source": [
    "# Nested statements - whit multiple criteria\n",
    "if (num < 1) | (num == 2):\n",
    "    print(f\"{num} is less than 1 OR equal to 2\")\n",
    "    # This is the nested statement - Be aware of the additional indent\n",
    "    if (num == 2):\n",
    "        print(f\"{num} is equal to 2\")\n"
   ]
  },
  {
   "cell_type": "markdown",
   "metadata": {},
   "source": [
    "## For loop\n",
    "For loops performs a sequence of code a specific number of times.  <BR>\n",
    "For loops are therefore run over a fixes sequence. This could be a list or an array. <BR>\n",
    "Similar to if statements anything enclosed in the loop is indented and the loop begins after the colon."
   ]
  },
  {
   "cell_type": "code",
   "execution_count": 7,
   "metadata": {
    "tags": []
   },
   "outputs": [
    {
     "output_type": "stream",
     "name": "stdout",
     "text": "0\n1\n2\n"
    }
   ],
   "source": [
    "# Loop 3 times using range\n",
    "for i in range(3):\n",
    "    print(i)"
   ]
  },
  {
   "cell_type": "code",
   "execution_count": 8,
   "metadata": {
    "tags": []
   },
   "outputs": [
    {
     "output_type": "stream",
     "name": "stdout",
     "text": "The color is blue\nThe color is red\nThe color is green\n"
    }
   ],
   "source": [
    "# Loop over a list\n",
    "colors = ['blue','red','green']\n",
    "\n",
    "for color in colors:\n",
    "    print(f\"The color is {color}\")"
   ]
  },
  {
   "cell_type": "code",
   "execution_count": 9,
   "metadata": {
    "tags": []
   },
   "outputs": [
    {
     "output_type": "stream",
     "name": "stdout",
     "text": "Color 0 is blue\nColor 1 is red\nColor 2 is green\n"
    }
   ],
   "source": [
    "# If you loop over a list and still want to keep track for the iteration use enumerate()\n",
    "for i, color in enumerate(colors):\n",
    "    print(f\"Color {i} is {color}\")"
   ]
  },
  {
   "cell_type": "code",
   "execution_count": 10,
   "metadata": {
    "tags": []
   },
   "outputs": [
    {
     "output_type": "stream",
     "name": "stdout",
     "text": "Iteration 0: The color is blue\nIteration 0: The color is red\nIteration 0: The color is green\nIteration 1: The color is blue\nIteration 1: The color is red\nIteration 1: The color is green\nIteration 2: The color is blue\nIteration 2: The color is red\nIteration 2: The color is green\n"
    }
   ],
   "source": [
    "# For loops can be nested \n",
    "for i in range(3):\n",
    "    for color in colors:\n",
    "        print(f\"Iteration {i}: The color is {color}\")"
   ]
  },
  {
   "cell_type": "code",
   "execution_count": 11,
   "metadata": {
    "tags": []
   },
   "outputs": [
    {
     "output_type": "stream",
     "name": "stdout",
     "text": "[0]\n[1]\n[2] The number is two!\n[3]\n[4]\n"
    }
   ],
   "source": [
    "# Combining for loops and if statements\n",
    "for i in range(5):\n",
    "    if i == 2:\n",
    "        print(f\"[{i}] The number is two!\")\n",
    "    else:\n",
    "        print(f\"[{i}]\")"
   ]
  },
  {
   "cell_type": "code",
   "execution_count": 12,
   "metadata": {
    "tags": []
   },
   "outputs": [
    {
     "output_type": "stream",
     "name": "stdout",
     "text": "[0]\n[1]\n[2] The number is two, stop the loop!\n"
    }
   ],
   "source": [
    "# Use break to stop a loop when the desired output is reached\n",
    "for i in range(5):\n",
    "    if i == 2:\n",
    "        print(f\"[{i}] The number is two, stop the loop!\")\n",
    "        # End the loop with break\n",
    "        break\n",
    "    else:\n",
    "        print(f\"[{i}]\")"
   ]
  },
  {
   "cell_type": "markdown",
   "metadata": {},
   "source": [
    "## While loops \n",
    "While loops performs a sequence of code while a condition is true.  <BR>\n",
    "Similar to if statements and for loops anything enclosed in the loop is indented and the loop begins after the colon."
   ]
  },
  {
   "cell_type": "code",
   "execution_count": 13,
   "metadata": {
    "tags": []
   },
   "outputs": [
    {
     "output_type": "stream",
     "name": "stdout",
     "text": "5\n6\n7\n8\n9\n"
    }
   ],
   "source": [
    "# Loop while num is less than 5\n",
    "# OBS! An infinite loop can occur if the statement looped over is always true! e.g. if we did not increase num.\n",
    "num = 5\n",
    "while num < 10:\n",
    "    print(num)\n",
    "    num += 1"
   ]
  },
  {
   "cell_type": "markdown",
   "metadata": {},
   "source": [
    "## List comprehension\n",
    "List comprehension is a concise way to create lists. <BR>\n",
    "It uses for loops and if statements to create lists in a simple way."
   ]
  },
  {
   "cell_type": "code",
   "execution_count": 14,
   "metadata": {
    "tags": []
   },
   "outputs": [
    {
     "output_type": "stream",
     "name": "stdout",
     "text": "[4, 16, 36, 64]\n[4, 16, 36, 64]\n"
    }
   ],
   "source": [
    "# Starting with a list\n",
    "old_list = [1,2,3,4,5,6,7,8]\n",
    "\n",
    "# Using for loops and if statements a list can be created:\n",
    "new_list1 = []\n",
    "# For each number in the old list\n",
    "for i in old_list:\n",
    "    # If the number is divisible with 2 (modulo 2 gives 0 remainder) \n",
    "    if i%2 == 0:\n",
    "        # Add squared number to list\n",
    "        new_list1.append( i**2 )\n",
    "print(new_list1)\n",
    "\n",
    "# Create the same list using list comprehension\n",
    "new_list2 = [ i**2 for i in old_list if i%2==0 ]\n",
    "print(new_list2)\n"
   ]
  },
  {
   "cell_type": "markdown",
   "metadata": {},
   "source": [
    "## Exercises\n",
    "1. Create a for loop that prints all even values from 0 to 19.\n",
    "2. In the for loop, print in text if the number is modulo 4.\n",
    "3. Break the loop if the value is above 15.\n",
    "<BR> <BR>\n",
    "1. Create a while loop that starts at 10 and decreases while it is larger than -10.\n",
    "2. If the value is above 0 print: positive\n",
    "3. If the value is less than 0 print: negative\n",
    "4. If the value is zero: print: zero"
   ]
  },
  {
   "cell_type": "code",
   "execution_count": null,
   "metadata": {},
   "outputs": [],
   "source": []
  }
 ]
}